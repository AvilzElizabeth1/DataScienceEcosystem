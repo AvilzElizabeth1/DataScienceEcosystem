{
 "cells": [
  {
   "cell_type": "markdown",
   "id": "4ce661ee",
   "metadata": {},
   "source": [
    "# This is an H1 Heading\n",
    "## This is an H2 Subheading"
   ]
  },
  {
   "cell_type": "code",
   "execution_count": null,
   "id": "dad68786",
   "metadata": {},
   "outputs": [],
   "source": [
    "#Data Science Tools and Ecosystem\n",
    "\n",
    "#Data Science Tools and Ecosystem are summarized\n",
    "\n",
    "#Some of the popular languages that Data Scientist use are\n",
    "1. Python\n",
    "2. R\n",
    "3. SQL\n",
    "4. Scala\n",
    "5. Java\n",
    "6. Julia\n",
    "# Some of the commonly used libraries used by Data Scientist include\n",
    "1. Matplotlib\n",
    "2. Seaborn\n",
    "3. Scikit-learn\n",
    "4. Keras\n",
    "# Data Science Tools\n",
    "\n",
    "| Development Environment Tools |\n",
    "| ----------------------------- |\n",
    "| Jupyter Notebook              |\n",
    "| RStudio                       |\n",
    "| Spyder                        |\n",
    "\n",
    "### Below are a few examples of evaluating arithmetic expressions in Python.\n",
    "\n",
    "# This is a simple arithmetic expression to multiply then add integers.\n",
    "result = (3 * 4) + 5\n",
    "result\n",
    "\n",
    "# This will convert 200 minutes to hours by dividing by 60.\n",
    "minutes = 200\n",
    "hours = minutes / 60\n",
    "hours\n",
    "\n",
    "**Objectives:**\n",
    "\n",
    "- List popular languages for Data Science.\n",
    "- Explore commonly used libraries in Data Science.\n",
    "- Create a table of development environment tools.\n",
    "- Understand arithmetic expressions in Python.\n",
    "- Convert minutes to hours using Python code.\n",
    "\n",
    "## Author\n",
    "Elizabeth Aviles"
   ]
  },
  {
   "cell_type": "markdown",
   "id": "8ebc512b",
   "metadata": {},
   "source": []
  }
 ],
 "metadata": {
  "kernelspec": {
   "display_name": "Python 3 (ipykernel)",
   "language": "python",
   "name": "python3"
  },
  "language_info": {
   "codemirror_mode": {
    "name": "ipython",
    "version": 3
   },
   "file_extension": ".py",
   "mimetype": "text/x-python",
   "name": "python",
   "nbconvert_exporter": "python",
   "pygments_lexer": "ipython3",
   "version": "3.7.1"
  }
 },
 "nbformat": 4,
 "nbformat_minor": 5
}
